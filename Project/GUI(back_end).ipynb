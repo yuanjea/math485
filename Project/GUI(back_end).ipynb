{
 "cells": [
  {
   "cell_type": "code",
   "execution_count": 329,
   "metadata": {},
   "outputs": [],
   "source": [
    "import math\n",
    "import numpy as np\n",
    "from matplotlib import pyplot as plt\n",
    "from openpyxl import load_workbook\n",
    "\n",
    "import random\n",
    "from random import shuffle\n",
    "\n",
    "import itertools"
   ]
  },
  {
   "cell_type": "code",
   "execution_count": 330,
   "metadata": {},
   "outputs": [],
   "source": [
    "#Opening the Excel file with data\n",
    "filepath=\"credit_card_data.xlsx\" #Enter full filepath here\n",
    "wb=load_workbook(filepath)\n",
    "sheet=wb.active\n",
    "\n",
    "#set-wise data read-in \n",
    "def read(num):\n",
    "    x =[]\n",
    "# 1. Male, 2. Age, 3. Debt, 4. Married, 5. Bank Customer, 6. Education Level, 7. Ethnicity, 8. Years Employed, \n",
    "# 9.Prior Default, 10. Employed, 11. Credit Score, 12. Driver's License, 13. Citizen, 14. Zip Code, 15. Income\n",
    "\n",
    "    cols = [14]\n",
    "    for i in cols:\n",
    "        x.append(sheet.cell(row=num+1,column=i).value)\n",
    "    #y.append(sheet.cell(row=num+1,column=16).value)\n",
    "    return x\n",
    "\n",
    "x_data = []\n",
    "for j in range(1, 654):\n",
    "    valx = read(j)\n",
    "    if \"?\" in valx:\n",
    "        print(j, read(j))\n",
    "    x_data.append(valx)    \n",
    "    #y_data.append(valy)\n",
    "merged = list(itertools.chain(*x_data))\n",
    "#print(merged)\n"
   ]
  },
  {
   "cell_type": "code",
   "execution_count": 331,
   "metadata": {},
   "outputs": [],
   "source": [
    "PriorDefault = random.choice(['t','f']) \n",
    "Employed = random.choice(['t','f'])\n",
    "DriversLicense = random.choice([0,1])\n",
    "Citizen = random.choice([0,1,2])\n",
    "CreditScore = random.choice(list(range(0,68)))\n",
    "Income = random.choice(list(range(0,2000)))\n",
    "#Zipcode = random.choice(colread(14)) \n",
    "Zipcode = random.choice(merged)"
   ]
  },
  {
   "cell_type": "code",
   "execution_count": 332,
   "metadata": {},
   "outputs": [],
   "source": [
    "if PriorDefault == 't':\n",
    "    PriorDefault = 1\n",
    "else:\n",
    "    PriorDefault = 0\n",
    "\n",
    "if Employed == 't':\n",
    "    Employed = 1\n",
    "else:\n",
    "    Employed = 0"
   ]
  },
  {
   "cell_type": "code",
   "execution_count": 333,
   "metadata": {},
   "outputs": [
    {
     "name": "stdout",
     "output_type": "stream",
     "text": [
      "Prior Default:  1\n",
      "Employed:  0\n",
      "Drivers License:  0\n",
      "Citizen:  2\n",
      "Credit Score:  14\n",
      "Income:  564\n",
      "Zipcode 00017\n"
     ]
    }
   ],
   "source": [
    "print('Prior Default: ', PriorDefault)\n",
    "print('Employed: ', Employed)\n",
    "print('Drivers License: ', DriversLicense)\n",
    "print('Citizen: ', Citizen)\n",
    "print('Credit Score: ', CreditScore)\n",
    "print('Income: ', Income)\n",
    "print('Zipcode', f'{Zipcode:05}')"
   ]
  },
  {
   "cell_type": "code",
   "execution_count": null,
   "metadata": {},
   "outputs": [],
   "source": []
  }
 ],
 "metadata": {
  "kernelspec": {
   "display_name": "Python 3",
   "language": "python",
   "name": "python3"
  },
  "language_info": {
   "codemirror_mode": {
    "name": "ipython",
    "version": 3
   },
   "file_extension": ".py",
   "mimetype": "text/x-python",
   "name": "python",
   "nbconvert_exporter": "python",
   "pygments_lexer": "ipython3",
   "version": "3.7.4"
  }
 },
 "nbformat": 4,
 "nbformat_minor": 2
}
