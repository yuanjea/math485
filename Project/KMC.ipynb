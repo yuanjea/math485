{
 "cells": [
  {
   "cell_type": "markdown",
   "metadata": {},
   "source": [
    "# Importing Relevant Packages"
   ]
  },
  {
   "cell_type": "code",
   "execution_count": 1,
   "metadata": {},
   "outputs": [],
   "source": [
    "import math\n",
    "import numpy as np\n",
    "from matplotlib import pyplot as plt\n",
    "from openpyxl import load_workbook\n",
    "from sklearn.cluster import KMeans\n",
    "\n",
    "%matplotlib inline "
   ]
  },
  {
   "cell_type": "markdown",
   "metadata": {},
   "source": [
    "# Data from Excel FIle without Missing Data points"
   ]
  },
  {
   "cell_type": "markdown",
   "metadata": {},
   "source": [
    "Total number of data points = 690\n",
    "\n",
    "Total number of Missing data points = 37\n",
    "\n",
    "Number of data points taken for clustering = 653\n",
    "\n",
    "67 number of missing values in 7 attributes ( Zipcode, Age, Married, Bank Customer, Education, Ethnicity, Male)"
   ]
  },
  {
   "cell_type": "code",
   "execution_count": 2,
   "metadata": {},
   "outputs": [],
   "source": [
    "#Opening the Excel file with data\n",
    "filepath=\"credit_card_data.xlsx\" #Enter full filepath here\n",
    "wb=load_workbook(filepath)\n",
    "sheet=wb.active\n",
    "\n",
    "#set-wise data read-in \n",
    "def read(num):\n",
    "    x, y = [], []\n",
    "# 1. Male, 2. Age, 3. Debt, 4. Married, 5. Bank Customer, 6. Education Level, 7. Ethnicity, 8. Years Employed, \n",
    "# 9.Prior Default, 10. Employed, 11. Credit Score, 12. Driver's License, 13. Citizen, 14. Zip Code, 15. Income\n",
    "\n",
    "    cols = [2, 3, 4, 5, 6, 8, 9, 10, 11, 12, 13, 15, 16 ] # took off zipcode\n",
    "    for i in cols:\n",
    "        x.append(sheet.cell(row=num+1,column=i).value)\n",
    "    y.append(sheet.cell(row=num+1,column=1).value)\n",
    "    return x, y\n",
    "\n",
    "x_data, y_data = [], []\n",
    "for j in range(1, 654):\n",
    "    valx, valy = read(j)\n",
    "    if \"?\" in valx:\n",
    "        print(j, read(j))\n",
    "    x_data.append(valx)    \n",
    "    y_data.append(valy)\n",
    "\n",
    "#print(x_data, y_data)"
   ]
  },
  {
   "cell_type": "markdown",
   "metadata": {},
   "source": [
    "# K-Means Clustering Implementation "
   ]
  },
  {
   "cell_type": "markdown",
   "metadata": {},
   "source": [
    "Unsupervised Machine Learning Algorithm "
   ]
  },
  {
   "cell_type": "code",
   "execution_count": 3,
   "metadata": {},
   "outputs": [
    {
     "data": {
      "text/plain": [
       "'\\nfrom sklearn.metrics import confusion_matrix\\n\\n#predicted = kmodel.predict_proba(x_data_test)\\npredicted = kmeans.predict_proba(test_x)\\n#print(predicted)\\nc = 0\\nfor each in range(len(predicted)):\\n    #if np.argmax(predicted[each]) == y_data_test[each]:\\n    if np.argmax(predicted[each]) == test_y[each]:    \\n        c += 1\\n\\n\\nprint(\"Percentage Accuracy: \", float(c/len(predicted))*100)\\n\\n'"
      ]
     },
     "execution_count": 3,
     "metadata": {},
     "output_type": "execute_result"
    }
   ],
   "source": [
    "\n",
    "#cut = 550\n",
    "#train_x, train_y = x_data[0:cut], y_data[0:cut] # train = 550 datasets\n",
    "#test_x, test_y = x_data[cut:650], y_data[cut:650] # test = 100 datasets\n",
    "\n",
    "train_x, train_y = x_data[0:650], y_data[0:650]\n",
    "\n",
    "train_x = np.asarray(train_x)\n",
    "train_y = np.asarray(train_y)\n",
    "\n",
    "X = train_x.reshape(-1, 1)\n",
    "Y = train_y.reshape(-1, 1)\n",
    "\n",
    "# Default:\n",
    "# KMeans(n_clusters=8, init='k-means++', n_init=10, max_iter=300, tol=0.0001, precompute_distances='auto', verbose=0, \n",
    "# random_state=None, copy_x=True, n_jobs=None, algorithm='auto')\n",
    "kmeans = KMeans(n_clusters = 2).fit(X, Y)\n",
    "#kmeans.labels_\n",
    "\n",
    "test = np.array([24.50, 12.75, 0., 0., 0., 2., 4.75, 1., 1., 2., 0., 0., 444., 1.]).reshape(-1,1)\n",
    "kmeans.predict(test)\n",
    "\n",
    "\n",
    "\n",
    "\n",
    " \n",
    "\n",
    "\n",
    "\n",
    "\n",
    "# To check our model performance, we will check the confusion matrix ie, True +ve,-ve and False +ve,-ve\n",
    "\"\"\"\n",
    "from sklearn.metrics import confusion_matrix\n",
    "\n",
    "#predicted = kmodel.predict_proba(x_data_test)\n",
    "predicted = kmeans.predict_proba(test_x)\n",
    "#print(predicted)\n",
    "c = 0\n",
    "for each in range(len(predicted)):\n",
    "    #if np.argmax(predicted[each]) == y_data_test[each]:\n",
    "    if np.argmax(predicted[each]) == test_y[each]:    \n",
    "        c += 1\n",
    "\n",
    "\n",
    "print(\"Percentage Accuracy: \", float(c/len(predicted))*100)\n",
    "\n",
    "\"\"\""
   ]
  },
  {
   "cell_type": "code",
   "execution_count": null,
   "metadata": {},
   "outputs": [],
   "source": []
  }
 ],
 "metadata": {
  "kernelspec": {
   "display_name": "Python 3",
   "language": "python",
   "name": "python3"
  },
  "language_info": {
   "codemirror_mode": {
    "name": "ipython",
    "version": 3
   },
   "file_extension": ".py",
   "mimetype": "text/x-python",
   "name": "python",
   "nbconvert_exporter": "python",
   "pygments_lexer": "ipython3",
   "version": "3.7.4"
  }
 },
 "nbformat": 4,
 "nbformat_minor": 2
}
